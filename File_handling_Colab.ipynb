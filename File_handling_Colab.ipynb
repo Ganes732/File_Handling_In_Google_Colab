{
  "nbformat": 4,
  "nbformat_minor": 0,
  "metadata": {
    "colab": {
      "provenance": [],
      "mount_file_id": "1G4_wsAvcnLTGzCA6pwoxePsjg__NjmeH",
      "authorship_tag": "ABX9TyPOxs88JIkE/0WESZLmV1Zl",
      "include_colab_link": true
    },
    "kernelspec": {
      "name": "python3",
      "display_name": "Python 3"
    },
    "language_info": {
      "name": "python"
    }
  },
  "cells": [
    {
      "cell_type": "markdown",
      "metadata": {
        "id": "view-in-github",
        "colab_type": "text"
      },
      "source": [
        "<a href=\"https://colab.research.google.com/github/csetapan/File_Handling_In_Google_Colab/blob/main/File_handling_Colab.ipynb\" target=\"_parent\"><img src=\"https://colab.research.google.com/assets/colab-badge.svg\" alt=\"Open In Colab\"/></a>"
      ]
    },
    {
      "cell_type": "markdown",
      "source": [
        "# File Handling on **Colab**\n"
      ],
      "metadata": {
        "id": "nVQhOLGkcjPB"
      }
    },
    {
      "cell_type": "markdown",
      "source": [
        " How to Mount Google Drive to Colab\n"
      ],
      "metadata": {
        "id": "oPD1ZfM8dMJ5"
      }
    },
    {
      "cell_type": "code",
      "source": [
        "from google.colab import drive\n",
        "drive.mount('/content/gdrive/',force_remount=True)"
      ],
      "metadata": {
        "id": "4I70Iyvycpvy"
      },
      "execution_count": null,
      "outputs": []
    },
    {
      "cell_type": "markdown",
      "source": [
        "List the content of **directory**"
      ],
      "metadata": {
        "id": "GAF2jiwlgLxK"
      }
    },
    {
      "cell_type": "code",
      "source": [
        "!ls"
      ],
      "metadata": {
        "id": "1YM1x6AagQt8"
      },
      "execution_count": null,
      "outputs": []
    },
    {
      "cell_type": "markdown",
      "source": [
        "Getting other information of directories"
      ],
      "metadata": {
        "id": "Ac0jlBw7g1Tb"
      }
    },
    {
      "cell_type": "code",
      "source": [
        "!ls -l"
      ],
      "metadata": {
        "id": "5zLoR9_Qgo6h"
      },
      "execution_count": null,
      "outputs": []
    },
    {
      "cell_type": "markdown",
      "source": [
        "Creating a directories"
      ],
      "metadata": {
        "id": "9b3VD2uMhAGG"
      }
    },
    {
      "cell_type": "code",
      "source": [
        "!mkdir tapan_cse"
      ],
      "metadata": {
        "id": "18Tyj67NhEUa"
      },
      "execution_count": null,
      "outputs": []
    },
    {
      "cell_type": "code",
      "source": [
        "!ls"
      ],
      "metadata": {
        "id": "qK7UtL57hXcc"
      },
      "execution_count": null,
      "outputs": []
    },
    {
      "cell_type": "markdown",
      "source": [
        "Creating Files"
      ],
      "metadata": {
        "id": "Q04eQGeth3tZ"
      }
    },
    {
      "cell_type": "markdown",
      "source": [
        "\n",
        "\n",
        "1.   Creating files from Bash command line\n",
        "2.   Creating files using python command\n",
        "3.   Downloading files from internet\n",
        "\n"
      ],
      "metadata": {
        "id": "PBdOwv_Fh6rH"
      }
    },
    {
      "cell_type": "code",
      "source": [
        "# creating files from bash command line\n",
        "!echo \"Data Visualization class\" >  data_visualization.txt"
      ],
      "metadata": {
        "id": "ZUBO1MLfiU5G"
      },
      "execution_count": null,
      "outputs": []
    },
    {
      "cell_type": "code",
      "source": [
        "#creating files using python command\n",
        "file1=open(\"data_visualization.txt\",'w')\n",
        "file1.write(\"Data Visualization class\")\n",
        "file1.close()"
      ],
      "metadata": {
        "id": "TX2et1k2i3pM"
      },
      "execution_count": null,
      "outputs": []
    },
    {
      "cell_type": "code",
      "source": [
        "#Downloading files from internet\n",
        "!wget https://github.com/csetapan/car_sales_data/blob/main/Car_sales.csv"
      ],
      "metadata": {
        "id": "BFRUv7Zpmhed",
        "colab": {
          "base_uri": "https://localhost:8080/"
        },
        "outputId": "14eae01a-5d06-4380-b4ab-dbbb32f5d89c"
      },
      "execution_count": 23,
      "outputs": [
        {
          "output_type": "stream",
          "name": "stdout",
          "text": [
            "--2023-11-28 13:28:35--  https://github.com/csetapan/car_sales_data/blob/main/Car_sales.csv\n",
            "Resolving github.com (github.com)... 192.30.255.113\n",
            "Connecting to github.com (github.com)|192.30.255.113|:443... connected.\n",
            "HTTP request sent, awaiting response... 200 OK\n",
            "Length: 25477 (25K) [text/plain]\n",
            "Saving to: ‘Car_sales.csv’\n",
            "\n",
            "\rCar_sales.csv         0%[                    ]       0  --.-KB/s               \rCar_sales.csv       100%[===================>]  24.88K  --.-KB/s    in 0.007s  \n",
            "\n",
            "2023-11-28 13:28:35 (3.32 MB/s) - ‘Car_sales.csv’ saved [25477/25477]\n",
            "\n"
          ]
        }
      ]
    },
    {
      "cell_type": "markdown",
      "source": [
        "Dowloading Kaggle Data set directly to colab\n",
        "\n",
        "> Download your kaggle API key(.jason file). You can do it by going to your kaggle account and clicking on \"create new API section\". Then save it in a folder in drive for permanr storage(It is recommended). But we can also save it in google colab, but it will be temporary, when the run time will be disconnected then it will disapper, so we have to again load.\n",
        "\n"
      ],
      "metadata": {
        "id": "fRd0Mj1TozSZ"
      }
    },
    {
      "cell_type": "code",
      "source": [
        "#pip install kaggle library\n",
        "!pip install kaggle"
      ],
      "metadata": {
        "id": "AJpqWxF60b95"
      },
      "execution_count": null,
      "outputs": []
    },
    {
      "cell_type": "code",
      "source": [
        "!mkdir ~/.kaggle"
      ],
      "metadata": {
        "id": "Qe902O1-uocE"
      },
      "execution_count": null,
      "outputs": []
    },
    {
      "cell_type": "markdown",
      "source": [
        "Change the file permission to read and write"
      ],
      "metadata": {
        "id": "RlD2-5vXv0Dp"
      }
    },
    {
      "cell_type": "code",
      "source": [
        "!cp /content/gdrive/MyDrive/kaggle_API_credential/kaggle.json ~/.kaggle/kaggle.json"
      ],
      "metadata": {
        "id": "CJYoBVVsvRds"
      },
      "execution_count": null,
      "outputs": []
    },
    {
      "cell_type": "code",
      "source": [
        "!chmod 600 ~/.kaggle/kaggle.json"
      ],
      "metadata": {
        "id": "e9hpnqTTvp6n"
      },
      "execution_count": null,
      "outputs": []
    },
    {
      "cell_type": "markdown",
      "source": [
        "To show the hidden directories only"
      ],
      "metadata": {
        "id": "5wYJX2fvze6R"
      }
    },
    {
      "cell_type": "code",
      "source": [
        "!ls -d ~/.*/"
      ],
      "metadata": {
        "id": "XSdpdDmMzd5t"
      },
      "execution_count": null,
      "outputs": []
    },
    {
      "cell_type": "code",
      "source": [
        "# Downloading the data set from the kaggle sites\n",
        "!kaggle datasets download suraj520/car-sales-data"
      ],
      "metadata": {
        "id": "aZthMerIrHXe"
      },
      "execution_count": null,
      "outputs": []
    },
    {
      "cell_type": "code",
      "source": [
        "#Downloading the data set from kaggle competetion\n",
        "!kaggle competions download titanic"
      ],
      "metadata": {
        "id": "CZ9oDjny0280"
      },
      "execution_count": null,
      "outputs": []
    },
    {
      "cell_type": "code",
      "source": [
        "!unzip car-sales-data.zip"
      ],
      "metadata": {
        "id": "cR7lnOxX1aiY"
      },
      "execution_count": null,
      "outputs": []
    },
    {
      "cell_type": "code",
      "source": [
        "#Downloading a specific file from the competetion in kaggle\n",
        "!kaggle competetions download digit-recognizer -f train.csv"
      ],
      "metadata": {
        "id": "Jnlz0MDdGWZl"
      },
      "execution_count": null,
      "outputs": []
    },
    {
      "cell_type": "markdown",
      "source": [
        "Read Files in Bash Command Line"
      ],
      "metadata": {
        "id": "mLnJAnEEQoD6"
      }
    },
    {
      "cell_type": "code",
      "source": [
        "!cat data_visualization.txt"
      ],
      "metadata": {
        "id": "xD_pZZnjQv3j"
      },
      "execution_count": null,
      "outputs": []
    },
    {
      "cell_type": "markdown",
      "source": [
        "Read File in Python"
      ],
      "metadata": {
        "id": "oYh9vsQaR4gy"
      }
    },
    {
      "cell_type": "code",
      "source": [
        "data = open(\"data_visualization.txt\",\"r\")\n",
        "#print(data.read())\n",
        "data1 = data.read()\n",
        "data1"
      ],
      "metadata": {
        "id": "M_JQEnTkR7bv"
      },
      "execution_count": null,
      "outputs": []
    },
    {
      "cell_type": "code",
      "source": [
        "!ls \"/content/drive/MyDrive/Colab Notebooks/\""
      ],
      "metadata": {
        "id": "i0nt7mDeTTf3"
      },
      "execution_count": null,
      "outputs": []
    },
    {
      "cell_type": "code",
      "source": [
        "#current working directory\n",
        "!pwd"
      ],
      "metadata": {
        "id": "3hV9Z9yjURYi"
      },
      "execution_count": null,
      "outputs": []
    },
    {
      "cell_type": "code",
      "source": [
        "#getting current working directory\n",
        "import os\n",
        "os.getcwd()"
      ],
      "metadata": {
        "id": "X3dZQyVBUXY2"
      },
      "execution_count": null,
      "outputs": []
    },
    {
      "cell_type": "markdown",
      "source": [
        "\n",
        "#Creating and deleting a directory\n",
        "#Moving, renaming and deleting a file"
      ],
      "metadata": {
        "id": "AEsex3XsY_-m"
      }
    },
    {
      "cell_type": "code",
      "source": [
        "#mv command is used to copy a file to the google drive\n",
        "!mv weather-weka.csv /content/drive/MyDrive/Weather_data"
      ],
      "metadata": {
        "id": "d2VXOGa7U9nj"
      },
      "execution_count": null,
      "outputs": []
    },
    {
      "cell_type": "code",
      "source": [
        "#mv command is also used to rename a file\n",
        "!mv data_visualization1.txt data_visualization.txt"
      ],
      "metadata": {
        "id": "erKgep2aVqeu"
      },
      "execution_count": null,
      "outputs": []
    },
    {
      "cell_type": "code",
      "source": [
        "#removing a file\n",
        "!rm data_visualization.txt"
      ],
      "metadata": {
        "id": "MaLdaNEsXbUk"
      },
      "execution_count": null,
      "outputs": []
    },
    {
      "cell_type": "code",
      "source": [
        "#creating a directory tapan_cse\n",
        "!mkdir tapan_cse"
      ],
      "metadata": {
        "id": "EX2qjkkYYDcW"
      },
      "execution_count": null,
      "outputs": []
    },
    {
      "cell_type": "code",
      "source": [
        "#removing a directory\n",
        "#we cant remove with only rm command, it can be done with -r , as rm with -r removes an empty directory\n",
        "!rm -r tapan_cse"
      ],
      "metadata": {
        "id": "u32oiBj0YItF"
      },
      "execution_count": null,
      "outputs": []
    },
    {
      "cell_type": "markdown",
      "source": [
        "#Faster uploading files to google Colab"
      ],
      "metadata": {
        "id": "b4Be-NWCkZEW"
      }
    },
    {
      "cell_type": "code",
      "source": [
        "#Syntax\n",
        "# !gdown --id (type_id_copying_from_google_drive_also_make_it_shareable_to_anyone\n",
        "!gdown --id 1TqWgz4tuSjE5LTm2193NIQWk1w8eIjWH"
      ],
      "metadata": {
        "id": "npIfPIEkYq-x"
      },
      "execution_count": null,
      "outputs": []
    }
  ]
}